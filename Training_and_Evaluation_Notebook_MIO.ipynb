{
  "nbformat": 4,
  "nbformat_minor": 0,
  "metadata": {
    "accelerator": "GPU",
    "colab": {
      "name": "Training and Evaluation Notebook - MIO",
      "provenance": [],
      "collapsed_sections": []
    },
    "kernelspec": {
      "display_name": "Python 3",
      "name": "python3"
    },
    "language_info": {
      "name": "python"
    }
  },
  "cells": [
    {
      "cell_type": "code",
      "metadata": {
        "colab": {
          "base_uri": "https://localhost:8080/"
        },
        "id": "HbEIPMtiBDCT",
        "outputId": "88a121e6-9456-4753-d65b-9843cfaead79"
      },
      "source": [
        "!nvidia-smi"
      ],
      "execution_count": null,
      "outputs": [
        {
          "output_type": "stream",
          "name": "stdout",
          "text": [
            "Thu Nov 18 12:42:17 2021       \n",
            "+-----------------------------------------------------------------------------+\n",
            "| NVIDIA-SMI 495.44       Driver Version: 460.32.03    CUDA Version: 11.2     |\n",
            "|-------------------------------+----------------------+----------------------+\n",
            "| GPU  Name        Persistence-M| Bus-Id        Disp.A | Volatile Uncorr. ECC |\n",
            "| Fan  Temp  Perf  Pwr:Usage/Cap|         Memory-Usage | GPU-Util  Compute M. |\n",
            "|                               |                      |               MIG M. |\n",
            "|===============================+======================+======================|\n",
            "|   0  Tesla V100-SXM2...  Off  | 00000000:00:04.0 Off |                    0 |\n",
            "| N/A   35C    P0    25W / 300W |      0MiB / 16160MiB |      0%      Default |\n",
            "|                               |                      |                  N/A |\n",
            "+-------------------------------+----------------------+----------------------+\n",
            "                                                                               \n",
            "+-----------------------------------------------------------------------------+\n",
            "| Processes:                                                                  |\n",
            "|  GPU   GI   CI        PID   Type   Process name                  GPU Memory |\n",
            "|        ID   ID                                                   Usage      |\n",
            "|=============================================================================|\n",
            "|  No running processes found                                                 |\n",
            "+-----------------------------------------------------------------------------+\n"
          ]
        }
      ]
    },
    {
      "cell_type": "code",
      "metadata": {
        "colab": {
          "base_uri": "https://localhost:8080/"
        },
        "id": "A97WSNNFSari",
        "outputId": "20e5a745-0228-4cf8-dcde-8e6300275818"
      },
      "source": [
        "!pip install torch==1.9.1+cu111 torchvision==0.10.1+cu111 torchaudio==0.9.1 -f https://download.pytorch.org/whl/torch_stable.html"
      ],
      "execution_count": null,
      "outputs": [
        {
          "output_type": "stream",
          "name": "stdout",
          "text": [
            "Looking in links: https://download.pytorch.org/whl/torch_stable.html\n",
            "Collecting torch==1.9.1+cu111\n",
            "  Downloading https://download.pytorch.org/whl/cu111/torch-1.9.1%2Bcu111-cp37-cp37m-linux_x86_64.whl (2041.3 MB)\n",
            "\u001b[K     |█████████████                   | 834.1 MB 1.2 MB/s eta 0:16:39tcmalloc: large alloc 1147494400 bytes == 0x556eee5de000 @  0x7fb26443a615 0x556eb48534cc 0x556eb493347a 0x556eb48562ed 0x556eb4947e1d 0x556eb48c9e99 0x556eb48c49ee 0x556eb4857bda 0x556eb48c9d00 0x556eb48c49ee 0x556eb4857bda 0x556eb48c6737 0x556eb4948c66 0x556eb48c5daf 0x556eb4948c66 0x556eb48c5daf 0x556eb4948c66 0x556eb48c5daf 0x556eb4858039 0x556eb489b409 0x556eb4856c52 0x556eb48c9c25 0x556eb48c49ee 0x556eb4857bda 0x556eb48c6737 0x556eb48c49ee 0x556eb4857bda 0x556eb48c5915 0x556eb4857afa 0x556eb48c5c0d 0x556eb48c49ee\n",
            "\u001b[K     |████████████████▌               | 1055.7 MB 1.2 MB/s eta 0:13:54tcmalloc: large alloc 1434370048 bytes == 0x556f32c34000 @  0x7fb26443a615 0x556eb48534cc 0x556eb493347a 0x556eb48562ed 0x556eb4947e1d 0x556eb48c9e99 0x556eb48c49ee 0x556eb4857bda 0x556eb48c9d00 0x556eb48c49ee 0x556eb4857bda 0x556eb48c6737 0x556eb4948c66 0x556eb48c5daf 0x556eb4948c66 0x556eb48c5daf 0x556eb4948c66 0x556eb48c5daf 0x556eb4858039 0x556eb489b409 0x556eb4856c52 0x556eb48c9c25 0x556eb48c49ee 0x556eb4857bda 0x556eb48c6737 0x556eb48c49ee 0x556eb4857bda 0x556eb48c5915 0x556eb4857afa 0x556eb48c5c0d 0x556eb48c49ee\n",
            "\u001b[K     |█████████████████████           | 1336.2 MB 1.2 MB/s eta 0:09:58tcmalloc: large alloc 1792966656 bytes == 0x556eb7a66000 @  0x7fb26443a615 0x556eb48534cc 0x556eb493347a 0x556eb48562ed 0x556eb4947e1d 0x556eb48c9e99 0x556eb48c49ee 0x556eb4857bda 0x556eb48c9d00 0x556eb48c49ee 0x556eb4857bda 0x556eb48c6737 0x556eb4948c66 0x556eb48c5daf 0x556eb4948c66 0x556eb48c5daf 0x556eb4948c66 0x556eb48c5daf 0x556eb4858039 0x556eb489b409 0x556eb4856c52 0x556eb48c9c25 0x556eb48c49ee 0x556eb4857bda 0x556eb48c6737 0x556eb48c49ee 0x556eb4857bda 0x556eb48c5915 0x556eb4857afa 0x556eb48c5c0d 0x556eb48c49ee\n",
            "\u001b[K     |██████████████████████████▌     | 1691.1 MB 1.2 MB/s eta 0:05:02tcmalloc: large alloc 2241208320 bytes == 0x556f2284e000 @  0x7fb26443a615 0x556eb48534cc 0x556eb493347a 0x556eb48562ed 0x556eb4947e1d 0x556eb48c9e99 0x556eb48c49ee 0x556eb4857bda 0x556eb48c9d00 0x556eb48c49ee 0x556eb4857bda 0x556eb48c6737 0x556eb4948c66 0x556eb48c5daf 0x556eb4948c66 0x556eb48c5daf 0x556eb4948c66 0x556eb48c5daf 0x556eb4858039 0x556eb489b409 0x556eb4856c52 0x556eb48c9c25 0x556eb48c49ee 0x556eb4857bda 0x556eb48c6737 0x556eb48c49ee 0x556eb4857bda 0x556eb48c5915 0x556eb4857afa 0x556eb48c5c0d 0x556eb48c49ee\n",
            "\u001b[K     |████████████████████████████████| 2041.3 MB 1.1 MB/s eta 0:00:01tcmalloc: large alloc 2041315328 bytes == 0x556fa81b0000 @  0x7fb2644391e7 0x556eb4889067 0x556eb48534cc 0x556eb493347a 0x556eb48562ed 0x556eb4947e1d 0x556eb48c9e99 0x556eb48c49ee 0x556eb4857bda 0x556eb48c5c0d 0x556eb48c49ee 0x556eb4857bda 0x556eb48c5c0d 0x556eb48c49ee 0x556eb4857bda 0x556eb48c5c0d 0x556eb48c49ee 0x556eb4857bda 0x556eb48c5c0d 0x556eb48c49ee 0x556eb4857bda 0x556eb48c5c0d 0x556eb4857afa 0x556eb48c5c0d 0x556eb48c49ee 0x556eb4857bda 0x556eb48c6737 0x556eb48c49ee 0x556eb4857bda 0x556eb48c6737 0x556eb48c49ee\n",
            "tcmalloc: large alloc 2551644160 bytes == 0x557021c70000 @  0x7fb26443a615 0x556eb48534cc 0x556eb493347a 0x556eb48562ed 0x556eb4947e1d 0x556eb48c9e99 0x556eb48c49ee 0x556eb4857bda 0x556eb48c5c0d 0x556eb48c49ee 0x556eb4857bda 0x556eb48c5c0d 0x556eb48c49ee 0x556eb4857bda 0x556eb48c5c0d 0x556eb48c49ee 0x556eb4857bda 0x556eb48c5c0d 0x556eb48c49ee 0x556eb4857bda 0x556eb48c5c0d 0x556eb4857afa 0x556eb48c5c0d 0x556eb48c49ee 0x556eb4857bda 0x556eb48c6737 0x556eb48c49ee 0x556eb4857bda 0x556eb48c6737 0x556eb48c49ee 0x556eb4858271\n",
            "\u001b[K     |████████████████████████████████| 2041.3 MB 3.0 kB/s \n",
            "\u001b[?25hCollecting torchvision==0.10.1+cu111\n",
            "  Downloading https://download.pytorch.org/whl/cu111/torchvision-0.10.1%2Bcu111-cp37-cp37m-linux_x86_64.whl (20.6 MB)\n",
            "\u001b[K     |████████████████████████████████| 20.6 MB 1.2 MB/s \n",
            "\u001b[?25hCollecting torchaudio==0.9.1\n",
            "  Downloading torchaudio-0.9.1-cp37-cp37m-manylinux1_x86_64.whl (1.9 MB)\n",
            "\u001b[K     |████████████████████████████████| 1.9 MB 5.0 MB/s \n",
            "\u001b[?25hRequirement already satisfied: typing-extensions in /usr/local/lib/python3.7/dist-packages (from torch==1.9.1+cu111) (3.10.0.2)\n",
            "Requirement already satisfied: numpy in /usr/local/lib/python3.7/dist-packages (from torchvision==0.10.1+cu111) (1.19.5)\n",
            "Requirement already satisfied: pillow>=5.3.0 in /usr/local/lib/python3.7/dist-packages (from torchvision==0.10.1+cu111) (7.1.2)\n",
            "Installing collected packages: torch, torchvision, torchaudio\n",
            "  Attempting uninstall: torch\n",
            "    Found existing installation: torch 1.10.0+cu111\n",
            "    Uninstalling torch-1.10.0+cu111:\n",
            "      Successfully uninstalled torch-1.10.0+cu111\n",
            "  Attempting uninstall: torchvision\n",
            "    Found existing installation: torchvision 0.11.1+cu111\n",
            "    Uninstalling torchvision-0.11.1+cu111:\n",
            "      Successfully uninstalled torchvision-0.11.1+cu111\n",
            "\u001b[31mERROR: pip's dependency resolver does not currently take into account all the packages that are installed. This behaviour is the source of the following dependency conflicts.\n",
            "torchtext 0.11.0 requires torch==1.10.0, but you have torch 1.9.1+cu111 which is incompatible.\u001b[0m\n",
            "Successfully installed torch-1.9.1+cu111 torchaudio-0.9.1 torchvision-0.10.1+cu111\n"
          ]
        }
      ]
    },
    {
      "cell_type": "code",
      "metadata": {
        "colab": {
          "base_uri": "https://localhost:8080/"
        },
        "id": "f8DvTiHc6nV9",
        "outputId": "184eea4b-c594-4fc3-eadc-029b7f5e1df3"
      },
      "source": [
        "!nvcc --version"
      ],
      "execution_count": null,
      "outputs": [
        {
          "name": "stdout",
          "output_type": "stream",
          "text": [
            "nvcc: NVIDIA (R) Cuda compiler driver\n",
            "Copyright (c) 2005-2020 NVIDIA Corporation\n",
            "Built on Mon_Oct_12_20:09:46_PDT_2020\n",
            "Cuda compilation tools, release 11.1, V11.1.105\n",
            "Build cuda_11.1.TC455_06.29190527_0\n"
          ]
        }
      ]
    },
    {
      "cell_type": "code",
      "metadata": {
        "colab": {
          "base_uri": "https://localhost:8080/"
        },
        "id": "-kVDm9nOPgtp",
        "outputId": "98ca0472-da0c-43da-dc03-599ed8bb4cba"
      },
      "source": [
        "!python -m torch.utils.collect_env"
      ],
      "execution_count": null,
      "outputs": [
        {
          "name": "stdout",
          "output_type": "stream",
          "text": [
            "Collecting environment information...\n",
            "PyTorch version: 1.9.1+cu111\n",
            "Is debug build: False\n",
            "CUDA used to build PyTorch: 11.1\n",
            "ROCM used to build PyTorch: N/A\n",
            "\n",
            "OS: Ubuntu 18.04.5 LTS (x86_64)\n",
            "GCC version: (Ubuntu 7.5.0-3ubuntu1~18.04) 7.5.0\n",
            "Clang version: 6.0.0-1ubuntu2 (tags/RELEASE_600/final)\n",
            "CMake version: version 3.12.0\n",
            "Libc version: glibc-2.26\n",
            "\n",
            "Python version: 3.7 (64-bit runtime)\n",
            "Python platform: Linux-5.4.104+-x86_64-with-Ubuntu-18.04-bionic\n",
            "Is CUDA available: True\n",
            "CUDA runtime version: 11.1.105\n",
            "GPU models and configuration: GPU 0: A100-SXM4-40GB\n",
            "Nvidia driver version: 460.32.03\n",
            "cuDNN version: Probably one of the following:\n",
            "/usr/lib/x86_64-linux-gnu/libcudnn.so.7.6.5\n",
            "/usr/lib/x86_64-linux-gnu/libcudnn.so.8.0.5\n",
            "/usr/lib/x86_64-linux-gnu/libcudnn_adv_infer.so.8.0.5\n",
            "/usr/lib/x86_64-linux-gnu/libcudnn_adv_train.so.8.0.5\n",
            "/usr/lib/x86_64-linux-gnu/libcudnn_cnn_infer.so.8.0.5\n",
            "/usr/lib/x86_64-linux-gnu/libcudnn_cnn_train.so.8.0.5\n",
            "/usr/lib/x86_64-linux-gnu/libcudnn_ops_infer.so.8.0.5\n",
            "/usr/lib/x86_64-linux-gnu/libcudnn_ops_train.so.8.0.5\n",
            "HIP runtime version: N/A\n",
            "MIOpen runtime version: N/A\n",
            "\n",
            "Versions of relevant libraries:\n",
            "[pip3] numpy==1.19.5\n",
            "[pip3] torch==1.9.1+cu111\n",
            "[pip3] torchaudio==0.9.1\n",
            "[pip3] torchsummary==1.5.1\n",
            "[pip3] torchtext==0.10.0\n",
            "[pip3] torchvision==0.10.1+cu111\n",
            "[conda] Could not collect\n"
          ]
        }
      ]
    },
    {
      "cell_type": "markdown",
      "metadata": {
        "id": "-UxZUhrh_13v"
      },
      "source": [
        "## If the user wants to run the code on Colab, then run the next cells\n",
        "\n",
        "- If the code files are present in the same folder as this notebook, then proceed to the next step."
      ]
    },
    {
      "cell_type": "code",
      "metadata": {
        "colab": {
          "base_uri": "https://localhost:8080/"
        },
        "id": "sKniFyFc8icd",
        "outputId": "f1c6f94e-4865-435f-88bf-40241ca04f4b"
      },
      "source": [
        "!git clone https://github.com/miossl/miossl.git"
      ],
      "execution_count": 1,
      "outputs": [
        {
          "output_type": "stream",
          "name": "stdout",
          "text": [
            "Cloning into 'miossl'...\n",
            "remote: Enumerating objects: 49, done.\u001b[K\n",
            "remote: Counting objects: 100% (49/49), done.\u001b[K\n",
            "remote: Compressing objects: 100% (47/47), done.\u001b[K\n",
            "remote: Total 49 (delta 20), reused 0 (delta 0), pack-reused 0\u001b[K\n",
            "Unpacking objects: 100% (49/49), done.\n"
          ]
        }
      ]
    },
    {
      "cell_type": "markdown",
      "metadata": {
        "id": "GgkzN11a_8xn"
      },
      "source": [
        "## Training"
      ]
    },
    {
      "cell_type": "code",
      "metadata": {
        "colab": {
          "base_uri": "https://localhost:8080/"
        },
        "id": "UYotRVDGKZkQ",
        "outputId": "029f49ec-fb27-4e97-d1ef-fabc0e1c9490"
      },
      "source": [
        "import os\n",
        "from argparse import ArgumentParser\n",
        "from tabulate import tabulate\n",
        "from datetime import datetime\n",
        "import torch\n",
        "import torch.nn as nn\n",
        "import torchvision\n",
        "import miossl.mio as mio\n",
        "from miossl.dataloader_modules import CIFAR10ArrayDataModule, STL10DataModule, CIFAR100DataModule\n",
        "from miossl.trainer import Trainer\n",
        "from miossl.utils import run_command\n",
        "from miossl.model_utils import ClassificationModel\n",
        "from miossl.model_transforms import MIOTransform"
      ],
      "execution_count": 1,
      "outputs": [
        {
          "output_type": "stream",
          "name": "stdout",
          "text": [
            "Global seed set to 16\n"
          ]
        }
      ]
    },
    {
      "cell_type": "markdown",
      "metadata": {
        "id": "WrOkCJtmAYxJ"
      },
      "source": [
        "## Declaring the model"
      ]
    },
    {
      "cell_type": "code",
      "metadata": {
        "colab": {
          "base_uri": "https://localhost:8080/"
        },
        "id": "-AKWb5q4KZnI",
        "outputId": "97b14dca-77be-4bae-ae37-20bc7c18c4ca"
      },
      "source": [
        "model = mio.MIOModel(optim = 'lars', \n",
        "                       proj_last_bn = True, \n",
        "                       warmup_epochs = 10, \n",
        "                       pretrain_batch_size = 128, \n",
        "                       lr = 1.5, \n",
        "                       data_dims = '32x32', \n",
        "                       max_epochs = 1000, \n",
        "                       temperature = 0.5,\n",
        "                       lambda_loss = 0.0,\n",
        "                       proj_num_layers = 2,\n",
        "                       projector_hid_dim = 2048,\n",
        "                       projector_out_dim = 128)"
      ],
      "execution_count": 2,
      "outputs": [
        {
          "output_type": "stream",
          "name": "stdout",
          "text": [
            "Adjusting learning rate of group 0 to 1.0000e-04.\n"
          ]
        }
      ]
    },
    {
      "cell_type": "markdown",
      "metadata": {
        "id": "8EhANNCfAb7T"
      },
      "source": [
        "## Transformations for Augmentation"
      ]
    },
    {
      "cell_type": "code",
      "metadata": {
        "id": "dUsvDxlKIW-E"
      },
      "source": [
        "# 's' is the scaling factor for brightness, contrast, hue and saturation. 'l' is the dimension of the input images as well as the output image dimension.\n",
        "transforms = MIOTransform(s = 0.5, \n",
        "                          l = 32)"
      ],
      "execution_count": 3,
      "outputs": []
    },
    {
      "cell_type": "markdown",
      "metadata": {
        "id": "fgAIVpTrAgMc"
      },
      "source": [
        "## Datamodules\n",
        "\n"
      ]
    },
    {
      "cell_type": "code",
      "metadata": {
        "id": "G_MWFEhxKZsv"
      },
      "source": [
        "# If the dataset is already downloaded, set download = False and set dataset_path to the location of the dataset folder 'cifar-10-python'\n",
        "\n",
        "dm = CIFAR10ArrayDataModule(pretrain_batch_size = 128, \n",
        "                            other_batch_size = 32, \n",
        "                            download = True, \n",
        "                            dataset_path = '/content/cifar-10-python', \n",
        "                            transformations = transforms)"
      ],
      "execution_count": 4,
      "outputs": []
    },
    {
      "cell_type": "code",
      "metadata": {
        "id": "qhZp8Ep3BAnz"
      },
      "source": [
        "# # If the dataset is already downloaded, set download = False and set dataset_path to the location of the dataset folder 'cifar-10-python'\n",
        "# dm = STL10DataModule(pretrain_batch_size = 128, \n",
        "#                      other_batch_size = 32, \n",
        "#                      download = True,\n",
        "#                      dataset_path = '/content/stl10_binary', \n",
        "#                      transformations = transforms)"
      ],
      "execution_count": null,
      "outputs": []
    },
    {
      "cell_type": "code",
      "metadata": {
        "id": "5wHQwIibqcz0"
      },
      "source": [
        "# # If the dataset is already downloaded, set download = False and set dataset_path to the location of the dataset folder 'cifar-10-python'\n",
        "# # if fine_labels = True, then total number of classes will be 100, if fine_labels is set to False, total number of classes is 20\n",
        "# dm = CIFAR100DataModule(pretrain_batch_size = 128, \n",
        "#                         other_batch_size = 32, \n",
        "#                         fine_labels = True, \n",
        "#                         download = True, \n",
        "#                         dataset_path = '/content/cifar-100-python/', \n",
        "#                         transformations = transforms)"
      ],
      "execution_count": null,
      "outputs": []
    },
    {
      "cell_type": "code",
      "metadata": {
        "id": "KM6UvdlSONpA"
      },
      "source": [
        ""
      ],
      "execution_count": null,
      "outputs": []
    },
    {
      "cell_type": "markdown",
      "metadata": {
        "id": "5agoZXv_B_62"
      },
      "source": [
        "## Initialize the Trainer\n",
        "\n",
        "- Trainer will download the dataset is download is set to True in the previous step. "
      ]
    },
    {
      "cell_type": "code",
      "metadata": {
        "colab": {
          "base_uri": "https://localhost:8080/"
        },
        "id": "bMuOvnztKZve",
        "outputId": "98df8e0b-9f1a-4397-9ab7-1e49bef72b34"
      },
      "source": [
        "trainer = Trainer(model = model, \n",
        "                  datamodule = dm, \n",
        "                  train_epochs = 250, \n",
        "                  modelsaveinterval = 25, \n",
        "                  max_epochs = 1000) #, resume = True, model_path = '') If training needs to be resumed"
      ],
      "execution_count": 5,
      "outputs": [
        {
          "output_type": "stream",
          "name": "stderr",
          "text": [
            "166503it [00:11, 14070.51it/s]\n"
          ]
        }
      ]
    },
    {
      "cell_type": "markdown",
      "metadata": {
        "id": "aHxczmHXCbr4"
      },
      "source": [
        "## Start Training"
      ]
    },
    {
      "cell_type": "code",
      "metadata": {
        "colab": {
          "base_uri": "https://localhost:8080/"
        },
        "id": "0TCBpNLlKZyP",
        "outputId": "4f9cf83f-3c0b-47b5-9b4c-c32bc32d011a"
      },
      "source": [
        "trainer.fit()"
      ],
      "execution_count": null,
      "outputs": [
        {
          "output_type": "stream",
          "name": "stdout",
          "text": [
            "\n",
            "Epoch 1\n"
          ]
        },
        {
          "output_type": "stream",
          "name": "stderr",
          "text": [
            " 39%|███▉      | 122/312 [01:19<01:57,  1.62batch/s, loss=1.39]"
          ]
        }
      ]
    },
    {
      "cell_type": "markdown",
      "metadata": {
        "id": "XoI3q_idCfEX"
      },
      "source": [
        "## Declare the model for linear classification"
      ]
    },
    {
      "cell_type": "code",
      "metadata": {
        "id": "SsOY5TIhKZ1J"
      },
      "source": [
        "ds_model = ClassificationModel('resnet50',dm.num_classes, '32x32').to('cuda:0')"
      ],
      "execution_count": null,
      "outputs": []
    },
    {
      "cell_type": "markdown",
      "metadata": {
        "id": "_TGoDfPbCkdn"
      },
      "source": [
        "## Linear Evaluation training"
      ]
    },
    {
      "cell_type": "code",
      "metadata": {
        "id": "_9JSEHEzKZ3x"
      },
      "source": [
        " # LINEAR EVALUATION\n",
        "lin_eval_metrics = trainer.linear_eval(ds_model, patience=50) #, net_model_path = '/content/moco_29-10-21-04-29-53_final_net.pt')"
      ],
      "execution_count": null,
      "outputs": []
    },
    {
      "cell_type": "markdown",
      "metadata": {
        "id": "LAK8JurfCyhP"
      },
      "source": [
        "## Print the Linear Evaluation Metrics"
      ]
    },
    {
      "cell_type": "code",
      "metadata": {
        "id": "jMJ89FZ1yoKT",
        "colab": {
          "base_uri": "https://localhost:8080/"
        },
        "outputId": "563d69e8-78f9-4ab1-cbd2-4902e2e0e68f"
      },
      "source": [
        "lin_eval_metrics"
      ],
      "execution_count": null,
      "outputs": [
        {
          "output_type": "execute_result",
          "data": {
            "text/plain": [
              "{'linear_eval_1p0_test_acc': 0.8479567307692307,\n",
              " 'linear_eval_1p0_test_loss': 0.44369119403358454,\n",
              " 'linear_eval_1p0_val_acc': 0.8549679487179487,\n",
              " 'linear_eval_1p0_val_loss': 0.43928597504511857}"
            ]
          },
          "metadata": {},
          "execution_count": 21
        }
      ]
    },
    {
      "cell_type": "code",
      "metadata": {
        "id": "oDonai2AWJDq"
      },
      "source": [
        "trainer.writer.add_hparams({'LR':0.01}, lin_eval_metrics,\n",
        "                                run_name = '_'.join(['mio','cifar10']))"
      ],
      "execution_count": null,
      "outputs": []
    },
    {
      "cell_type": "code",
      "metadata": {
        "id": "wfbkX2G0HATg"
      },
      "source": [
        "# Load the TensorBoard notebook extension\n",
        "%load_ext tensorboard"
      ],
      "execution_count": null,
      "outputs": []
    },
    {
      "cell_type": "code",
      "metadata": {
        "id": "wOiyfmtOnfAt"
      },
      "source": [
        "%tensorboard --logdir /content/runs"
      ],
      "execution_count": null,
      "outputs": []
    }
  ]
}
